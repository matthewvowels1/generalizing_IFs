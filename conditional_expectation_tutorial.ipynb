{
 "cells": [
  {
   "cell_type": "code",
   "execution_count": 1,
   "id": "4b6cd35e",
   "metadata": {},
   "outputs": [],
   "source": [
    "import numpy as np\n",
    "import matplotlib.pyplot as plt\n",
    "from sklearn.ensemble import RandomForestRegressor\n",
    "from sklearn.model_selection import KFold"
   ]
  },
  {
   "cell_type": "markdown",
   "id": "26c1fe6a",
   "metadata": {},
   "source": [
    "## Problem Setup:\n",
    "\n",
    "This example is taken from https://arxiv.org/abs/2107.00681 by Hines, Dukes, Diaz-Ordaz, and Vansteelandt (2021).\n",
    "\n",
    "$\\psi(P_0) = \\mathbb{E}[Y|X=x]$  is our target estimand - it is the conditional outcome mean.\n",
    "\n",
    "i.e. $$\\psi(P_0) = \\int y \\frac{f_{y,x}(y,x)}{f_x(x)} dy $$\n",
    "\n",
    "\n",
    "If we assume the distribution from which the densities $f$ derive has been perturbed by a point mass at $(\\tilde x, \\tilde y)$ then:\n",
    "\n",
    "i.e. $$\\psi(P_t) = \\int y \\frac{f_{y,x,t}(y,x)}{f_{x,t}(x)} dy $$\n",
    "\n",
    "where $f_{y,x,t}(y,x)$ and $f_{x,t}(x)$ are the joint and marginal densities of $(Y,X)$ and $(X)$ respectively, under the 'parametric submodel' $$P_t = t\\delta_x(\\tilde x) + (1-t)P_o$$ and where $\\delta_x(\\tilde x)$ denotes the Dirac delta function s.t. it gives the density of a point mass at $\\tilde x$, is zero everywhere else, and integrates to 1.\n",
    "\n",
    "For our densities we therefore have that:\n",
    "\n",
    "$$f_{y,x,t}(x,y) =  t \\delta_{x,y}(\\tilde x, \\tilde y) +  (1-t)f_{x,y}(x,y)$$\n",
    "\n",
    "and\n",
    "\n",
    "$$f_{x,t}(x) =  t \\delta_{x}(\\tilde x) +  (1-t)f_{x}(x)$$\n",
    "\n",
    "For some single observation $\\tilde o$, the influence function can be written as:\n",
    "\n",
    "$$\\phi(\\tilde o, P) = \\left. \\frac{d\\psi(P_t)}{dt} \\right \\vert_{t=0} = \\int y \\left . \\frac{d}{dt} \\right \\vert_{t=0}\\frac{f_{x,y,t}(x,y)}{f_{x,t}(x)}dy$$\n",
    "\n",
    "Following the quotient rule:\n",
    "$$\\phi(\\tilde o, P) = \\int\\left .\\frac{y}{f(x)} \\frac{df_{x,y,t}(x,y)}{dt} \\right \\vert_{t=0} dy  - \\int\\left .\\frac{ydf_{x,t}(x)}{dt} \\frac{f_{x,y,t}(x,y)}{f(x)^2} \\right \\vert_{t=0} dy$$\n",
    "\n",
    "Now $$\\left. \\frac{df_{y,x,t}(x,y)}{dt}\\right \\vert_{t=0} =  \\delta_{x,y}(\\tilde x, \\tilde y) -f_{x,y}(x,y)$$\n",
    "\n",
    "and \n",
    "$$\\left. \\frac{df_{x,t}(x)}{dt} \\right \\vert_{t=0} =  \\delta_{x}(\\tilde x) -f_{x}(x)$$\n",
    "\n",
    "Therefore, with some manipulation and remembering that $\\delta_{x,y}(\\tilde x, \\tilde y) = \\delta_{x}(\\tilde x) \\delta_{y}(\\tilde y) $\n",
    "\n",
    "$$ \\phi(\\tilde o, P) = \\frac{\\delta_{x}(\\tilde x) }{f(\\tilde x)} \\left( \\tilde y - \\mathbb{E}[Y|X=\\tilde x]\\right )$$\n",
    "\n",
    "This is fine if $X$ is discrete, since in this case $\\delta_{x}(\\tilde x)$ is the indicator function $\\mathbb{1}_x(\\tilde x)$ which equals 1 when $x=\\tilde x$.\n",
    "\n",
    "Finally we want to update our initial estimate as:\n",
    "\n",
    "$$ \\psi(P) \\approx \\psi(P_n) + \\frac{1}{N}\\sum_{i=0}^N\\phi(\\tilde o_i, P_n)$$\n",
    "\n",
    "which follows the Von Mises process for approximating a functional at an unknown distribution as a sum of terms involving the functional at the current distribution plus some derivatives (in our case, pathwise derivative) and higher order terms. "
   ]
  },
  {
   "cell_type": "markdown",
   "id": "08a1c236",
   "metadata": {},
   "source": [
    "### 1. Generate some data $p_n(X,Y)$, calculate some example ground truths.\n",
    "\n",
    "For the example, we will use a 4 dimensional Bernoulli distribution, and include an intercept and interaction term"
   ]
  },
  {
   "cell_type": "code",
   "execution_count": 2,
   "id": "5f4f91e6",
   "metadata": {},
   "outputs": [
    {
     "name": "stdout",
     "output_type": "stream",
     "text": [
      "Ground Truth E(Y|X=x):  1.5686159179138452\n"
     ]
    },
    {
     "data": {
      "image/png": "[encoded data removed]",
      "text/plain": [
       "<Figure size 432x288 with 1 Axes>"
      ]
     },
     "metadata": {
      "needs_background": "light"
     },
     "output_type": "display_data"
    }
   ],
   "source": [
    "# define a function that returns p(X=x) given the PMF p(X) and space of possible X\n",
    "def pmf(x, cats, p_cats):\n",
    "    ''' takes in set of possible outcomes 'cats' and corresponding probabilitys p_cats\n",
    "    output is probability of specified event 'x' '''\n",
    "    ind = np.where((cats==x).all(axis=1))[0][0]\n",
    "    return p_cats[ind]\n",
    "\n",
    "N = 5000\n",
    "\n",
    "def data_gen(N, beta):\n",
    "    X0 = np.array([1.0]).repeat(N).reshape(-1, 1)\n",
    "    X1 = np.random.binomial(1, 0.5, N).reshape(-1, 1)\n",
    "    X2 = np.random.binomial(1, 0.5, N).reshape(-1, 1)\n",
    "    X3 = np.random.binomial(1, 0.5, N).reshape(-1, 1)\n",
    "    X4 = np.random.binomial(1, 0.5, N).reshape(-1, 1)\n",
    "    X = np.concatenate([X0, X1, X2, X3, X4, X2*X3], 1)\n",
    "    u =  0.5*np.random.randn(N)\n",
    "    y = np.log((np.dot(X, beta)) + u**2)\n",
    "    \n",
    "    return X[:,1:-1], X, y, u  # first output is the variables without the constant and interaction\n",
    "\n",
    "beta = np.array([3.3, 0.6, 0.5, 0.9, 0.6, 1.0])  # set beta/coefficients to some values\n",
    "X, X_all, y, u = data_gen(N=N, beta=beta)  # generate the data\n",
    "\n",
    "# set our query value of X=x:\n",
    "cond_X_GT = np.array([1., 1., 0., 1., 0., 0.])  # note the last var has to be X2*X3\n",
    "\n",
    "# simulated data gen process (without noise) for purposes of finding E(Y|X=x)\n",
    "Psi_GT = np.log(np.dot(cond_X_GT, beta)) \n",
    "print('Ground Truth E(Y|X=x): ', Psi_GT)\n",
    "plt.hist(y, bins=20)\n",
    "plt.show()"
   ]
  },
  {
   "cell_type": "markdown",
   "id": "c5cfe94b",
   "metadata": {},
   "source": [
    "### 2. Split into two (_ds1 and _ds2)"
   ]
  },
  {
   "cell_type": "code",
   "execution_count": 3,
   "id": "b5ee8d74",
   "metadata": {},
   "outputs": [],
   "source": [
    "X_ds1 = X[: len(X)//2]\n",
    "X_ds2 = X[len(X)//2 :]\n",
    "y_ds1 = y[: len(y)//2]\n",
    "y_ds2 = y[len(y)//2 :]"
   ]
  },
  {
   "cell_type": "markdown",
   "id": "410876f3",
   "metadata": {},
   "source": [
    "### 3. Estimate $\\hat\\psi_{ds_1}$ Using a Random Forest Regressor\n"
   ]
  },
  {
   "cell_type": "code",
   "execution_count": 4,
   "id": "aea11e33",
   "metadata": {},
   "outputs": [
    {
     "name": "stdout",
     "output_type": "stream",
     "text": [
      "Ground Truth E(Y|X=x):  1.5686159179138452\n",
      "Psi estimate using RF trained on ds_1:  1.6140747556046373\n",
      "Relative error for ds_1 estimate:  2.898 percent\n"
     ]
    }
   ],
   "source": [
    "cond_X_est = cond_X_GT[1:-1]  # excludes offset and interaction. \n",
    "\n",
    "reg = RandomForestRegressor().fit(X_ds1, y_ds1)\n",
    "psi_ds1 = reg.predict((cond_X_est).reshape(1, -1))\n",
    "print('Ground Truth E(Y|X=x): ', Psi_GT)\n",
    "print('Psi estimate using RF trained on ds_1: ', psi_ds1[0])\n",
    "print('Relative error for ds_1 estimate: ', np.round((np.abs(psi_ds1-Psi_GT) / Psi_GT * 100)[0],4), 'percent')"
   ]
  },
  {
   "cell_type": "markdown",
   "id": "ba7f9f6c",
   "metadata": {},
   "source": [
    "### 4. Estimate f(x) using ds_1\n",
    "\n",
    "Note that X is 4 dimensional and each dimension is Bernoulli distributed (i.e. each draw yields 0 or 1). The probability of each event in X needs to be estimated from the data.\n",
    "\n",
    "For this we are going to use ds_1 to estimate the PMF, and then, when we need to use it, we can plug the values from ds_2 into this estimated PMF.\n",
    "\n"
   ]
  },
  {
   "cell_type": "code",
   "execution_count": 5,
   "id": "d4be18ad",
   "metadata": {},
   "outputs": [],
   "source": [
    "# return the set of possible outcomes, and their counts for X_ds1\n",
    "cats_ds1, counts_ds1 = np.unique(X_ds1, axis=0,return_counts=True)\n",
    "p_cats_ds1 = counts_ds1 / len(X_ds1)  # this returns the normalized probabilities for each possible outcome"
   ]
  },
  {
   "cell_type": "markdown",
   "id": "893fcd0d",
   "metadata": {},
   "source": [
    "### 5. Now to compute the IFs for ds_1\n",
    "$$ \\phi(\\tilde x, P) = \\frac{\\mathbb{1}_x(\\tilde x) }{f(\\tilde x)} \\left( \\tilde y - \\mathbb{E}[Y|X=\\tilde x]\\right )$$"
   ]
  },
  {
   "cell_type": "code",
   "execution_count": 6,
   "id": "43a77dfa",
   "metadata": {},
   "outputs": [],
   "source": [
    "all_phi_ds2s = []\n",
    "for i in range(len(X_ds2)):\n",
    "    y_tilde = y_ds2[i]\n",
    "    x_tilde = X_ds2[i]\n",
    "    EY_tildeX = reg.predict(x_tilde.reshape(1, -1))\n",
    "    y_Ey = y_tilde - EY_tildeX\n",
    "    if (x_tilde == cond_X_est).all():\n",
    "        delta_over_fx = 1 / pmf(x_tilde, cats_ds1, p_cats_ds1)\n",
    "    else:\n",
    "        delta_over_fx = 0\n",
    "    all_phi_ds2s.append(delta_over_fx * y_Ey)\n",
    "    \n",
    "all_phi_ds2s = np.asarray(all_phi_ds2s)    "
   ]
  },
  {
   "cell_type": "markdown",
   "id": "0f2b580e",
   "metadata": {},
   "source": [
    "### 6. Repeat steps  3-5 with the other datasplit"
   ]
  },
  {
   "cell_type": "code",
   "execution_count": 7,
   "id": "34c32dd2",
   "metadata": {},
   "outputs": [
    {
     "name": "stdout",
     "output_type": "stream",
     "text": [
      "Ground Truth E(Y|X=x):  1.5686159179138452\n",
      "Psi estimate using RF trained on ds_2:  1.612642650476481\n",
      "Relative error for ds_2 estimate:  2.8067 percent\n"
     ]
    }
   ],
   "source": [
    "# refit the RF on the other sample\n",
    "reg = RandomForestRegressor().fit(X_ds2, y_ds2)\n",
    "psi_ds2 = reg.predict((cond_X_est).reshape(1, -1))\n",
    "print('Ground Truth E(Y|X=x): ', Psi_GT)\n",
    "print('Psi estimate using RF trained on ds_2: ', psi_ds2[0])\n",
    "print('Relative error for ds_2 estimate: ', np.round((np.abs(psi_ds2-Psi_GT) / Psi_GT * 100)[0],4), 'percent')\n",
    "\n",
    "# this returns the set of possible outcomes, and their counts for the 2nd sample\n",
    "cats_ds2, counts_ds2 = np.unique(X_ds2, axis=0,return_counts=True)\n",
    "p_cats_ds2 = counts_ds2 / len(X_ds2)  # this returns the normalized probabilities for each possible outcome\n",
    "\n",
    "all_phi_ds1s = []\n",
    "for i in range(len(X_ds1)):\n",
    "    y_tilde = y_ds1[i]\n",
    "    x_tilde = X_ds1[i]\n",
    "    EY_tildeX = reg.predict(x_tilde.reshape(1, -1))\n",
    "    y_Ey = y_tilde - EY_tildeX\n",
    "    if (x_tilde == cond_X_est).all():\n",
    "        delta_over_fx = 1 / pmf(x_tilde, cats_ds2, p_cats_ds2)\n",
    "    else:\n",
    "        delta_over_fx = 0\n",
    "    all_phi_ds1s.append(delta_over_fx * y_Ey)\n",
    "    \n",
    "all_phi_ds1s = np.asarray(all_phi_ds1s)    "
   ]
  },
  {
   "cell_type": "markdown",
   "id": "40b247d4",
   "metadata": {},
   "source": [
    "### 7. Average the IF estimates from both datasplits"
   ]
  },
  {
   "cell_type": "code",
   "execution_count": 8,
   "id": "fd78f44b",
   "metadata": {},
   "outputs": [],
   "source": [
    "phi_est = ((all_phi_ds1s + all_phi_ds2s)/2).mean()"
   ]
  },
  {
   "cell_type": "markdown",
   "id": "ef6863d0",
   "metadata": {},
   "source": [
    "### 8. Average the Psi estimates from both datasplits"
   ]
  },
  {
   "cell_type": "code",
   "execution_count": 9,
   "id": "faa83cf3",
   "metadata": {},
   "outputs": [
    {
     "name": "stdout",
     "output_type": "stream",
     "text": [
      "Ground Truth E(Y|X=x):  1.5686159179138452\n",
      "Average Psi estimate across both dataplits:  1.6133587030405592\n",
      "Relative error average estimate:  2.8524 percent\n"
     ]
    }
   ],
   "source": [
    "psi_est =  (psi_ds1 + psi_ds2) / 2\n",
    "\n",
    "print('Ground Truth E(Y|X=x): ', Psi_GT)\n",
    "print('Average Psi estimate across both dataplits: ', psi_est[0])\n",
    "print('Relative error average estimate: ', np.round((np.abs(psi_est-Psi_GT) / Psi_GT * 100)[0],4), 'percent')\n"
   ]
  },
  {
   "cell_type": "markdown",
   "id": "7ae62872",
   "metadata": {},
   "source": [
    "### 9. Update Estimate\n",
    "\n",
    "$$ \\psi(P) \\approx \\psi(P_n) + \\frac{1}{N}\\sum_{i=0}^N\\phi(\\tilde o_i, P_n)$$\n",
    "\n"
   ]
  },
  {
   "cell_type": "code",
   "execution_count": 10,
   "id": "325bb3ef",
   "metadata": {},
   "outputs": [
    {
     "name": "stdout",
     "output_type": "stream",
     "text": [
      "Ground Truth E(Y|X=x):  1.5686159179138452\n",
      "Average Psi estimate UPDATED:  1.6126238038086684\n",
      "Relative error UPDATED estimate:  2.8055 percent\n",
      "Reduction in bias:  0.0469 percent\n"
     ]
    }
   ],
   "source": [
    "psi_est_updated = psi_est + phi_est\n",
    "\n",
    "print('Ground Truth E(Y|X=x): ', Psi_GT)\n",
    "print('Average Psi estimate UPDATED: ', psi_est_updated[0])\n",
    "print('Relative error UPDATED estimate: ', np.round((np.abs(psi_est_updated-Psi_GT) / Psi_GT * 100)[0],4), 'percent')\n",
    "print('Reduction in bias: ', np.round(np.round((np.abs(psi_est-Psi_GT) / Psi_GT * 100)[0],4) - np.round((np.abs(psi_est_updated-Psi_GT) / Psi_GT * 100)[0],4),4), 'percent')"
   ]
  },
  {
   "cell_type": "code",
   "execution_count": null,
   "id": "67548a80",
   "metadata": {},
   "outputs": [],
   "source": []
  },
  {
   "cell_type": "code",
   "execution_count": null,
   "id": "440ae16d",
   "metadata": {},
   "outputs": [],
   "source": []
  },
  {
   "cell_type": "code",
   "execution_count": null,
   "id": "316c2f08",
   "metadata": {},
   "outputs": [],
   "source": []
  }
 ],
 "metadata": {
  "kernelspec": {
   "display_name": "Python 3",
   "language": "python",
   "name": "python3"
  },
  "language_info": {
   "codemirror_mode": {
    "name": "ipython",
    "version": 3
   },
   "file_extension": ".py",
   "mimetype": "text/x-python",
   "name": "python",
   "nbconvert_exporter": "python",
   "pygments_lexer": "ipython3",
   "version": "3.7.0"
  }
 },
 "nbformat": 4,
 "nbformat_minor": 5
}
